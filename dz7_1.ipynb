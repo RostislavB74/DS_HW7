{
  "nbformat": 4,
  "nbformat_minor": 0,
  "metadata": {
    "colab": {
      "provenance": [],
      "authorship_tag": "ABX9TyP6bYSWNl8zIT0/8zRoD+GA",
      "include_colab_link": true
    },
    "kernelspec": {
      "name": "python3",
      "display_name": "Python 3"
    },
    "language_info": {
      "name": "python"
    }
  },
  "cells": [
    {
      "cell_type": "markdown",
      "metadata": {
        "id": "view-in-github",
        "colab_type": "text"
      },
      "source": [
        "<a href=\"https://colab.research.google.com/github/RostislavB74/DS_HW7/blob/main/dz7_1.ipynb\" target=\"_parent\"><img src=\"https://colab.research.google.com/assets/colab-badge.svg\" alt=\"Open In Colab\"/></a>"
      ]
    },
    {
      "cell_type": "code",
      "source": [
        "!pip install scikit-surprise"
      ],
      "metadata": {
        "colab": {
          "base_uri": "https://localhost:8080/"
        },
        "id": "N00Zqj0nx09o",
        "outputId": "ba207784-99fd-45d8-f5a5-3ace88362320"
      },
      "execution_count": 1,
      "outputs": [
        {
          "output_type": "stream",
          "name": "stdout",
          "text": [
            "Collecting scikit-surprise\n",
            "  Downloading scikit-surprise-1.1.3.tar.gz (771 kB)\n",
            "\u001b[?25l     \u001b[90m━━━━━━━━━━━━━━━━━━━━━━━━━━━━━━━━━━━━━━━━\u001b[0m \u001b[32m0.0/772.0 kB\u001b[0m \u001b[31m?\u001b[0m eta \u001b[36m-:--:--\u001b[0m\r\u001b[2K     \u001b[91m━━━━━━━━━━\u001b[0m\u001b[90m╺\u001b[0m\u001b[90m━━━━━━━━━━━━━━━━━━━━━━━━━━━━━\u001b[0m \u001b[32m194.6/772.0 kB\u001b[0m \u001b[31m5.7 MB/s\u001b[0m eta \u001b[36m0:00:01\u001b[0m\r\u001b[2K     \u001b[91m━━━━━━━━━━━━━━━━━━━━━━━━━━━━━━━\u001b[0m\u001b[91m╸\u001b[0m\u001b[90m━━━━━━━━\u001b[0m \u001b[32m614.4/772.0 kB\u001b[0m \u001b[31m8.9 MB/s\u001b[0m eta \u001b[36m0:00:01\u001b[0m\r\u001b[2K     \u001b[90m━━━━━━━━━━━━━━━━━━━━━━━━━━━━━━━━━━━━━━━━\u001b[0m \u001b[32m772.0/772.0 kB\u001b[0m \u001b[31m8.1 MB/s\u001b[0m eta \u001b[36m0:00:00\u001b[0m\n",
            "\u001b[?25h  Preparing metadata (setup.py) ... \u001b[?25l\u001b[?25hdone\n",
            "Requirement already satisfied: joblib>=1.0.0 in /usr/local/lib/python3.10/dist-packages (from scikit-surprise) (1.3.2)\n",
            "Requirement already satisfied: numpy>=1.17.3 in /usr/local/lib/python3.10/dist-packages (from scikit-surprise) (1.25.2)\n",
            "Requirement already satisfied: scipy>=1.3.2 in /usr/local/lib/python3.10/dist-packages (from scikit-surprise) (1.11.4)\n",
            "Building wheels for collected packages: scikit-surprise\n",
            "  Building wheel for scikit-surprise (setup.py) ... \u001b[?25l\u001b[?25hdone\n",
            "  Created wheel for scikit-surprise: filename=scikit_surprise-1.1.3-cp310-cp310-linux_x86_64.whl size=3163007 sha256=9a3b30cd3b23d8071b4b3e6337f107c849e9ca6906b383a0fdb415b2bdec4f09\n",
            "  Stored in directory: /root/.cache/pip/wheels/a5/ca/a8/4e28def53797fdc4363ca4af740db15a9c2f1595ebc51fb445\n",
            "Successfully built scikit-surprise\n",
            "Installing collected packages: scikit-surprise\n",
            "Successfully installed scikit-surprise-1.1.3\n"
          ]
        }
      ]
    },
    {
      "cell_type": "code",
      "source": [
        "import pandas as pd\n",
        "from surprise.model_selection import train_test_split\n",
        "import matplotlib.pyplot as plt\n",
        "from surprise import accuracy\n",
        "from surprise.model_selection import cross_validate\n",
        "from surprise import Dataset, Reader\n",
        "from surprise.prediction_algorithms import SVD, SVDpp, NMF, SlopeOne, KNNBasic, KNNWithMeans, KNNWithZScore, KNNBaseline, CoClustering, BaselineOnly, NormalPredictor\n",
        "import datetime\n",
        "import random\n",
        "import time\n",
        "import numpy as np\n",
        "from surprise import (\n",
        "    BaselineOnly,\n",
        "    CoClustering,\n",
        "    Dataset,\n",
        "    KNNBaseline,\n",
        "    KNNBasic,\n",
        "    KNNWithMeans,\n",
        "    NMF,\n",
        "    NormalPredictor,\n",
        "    SlopeOne,\n",
        "    SVD,\n",
        "    SVDpp,\n",
        ")\n",
        "from surprise.model_selection import cross_validate, KFold\n",
        "from tabulate import tabulate"
      ],
      "metadata": {
        "id": "0749DUPIGNRS"
      },
      "execution_count": 2,
      "outputs": []
    },
    {
      "cell_type": "code",
      "execution_count": 3,
      "metadata": {
        "id": "B1jRChtrxQAD",
        "outputId": "d92fac6f-4c58-4a10-8e0b-85a19596cbc9",
        "colab": {
          "base_uri": "https://localhost:8080/"
        }
      },
      "outputs": [
        {
          "output_type": "stream",
          "name": "stdout",
          "text": [
            "Trying to download dataset from https://files.grouplens.org/datasets/movielens/ml-100k.zip...\n",
            "Done! Dataset ml-100k has been saved to /root/.surprise_data/ml-100k\n"
          ]
        }
      ],
      "source": [
        "data = Dataset.load_builtin('ml-100k', prompt=False)\n"
      ]
    },
    {
      "cell_type": "markdown",
      "source": [
        "Опис архіву  \n",
        "===============================================\n",
        "\n"
      ],
      "metadata": {
        "id": "4ON4EzJoJ02e"
      }
    },
    {
      "cell_type": "code",
      "source": [
        "# MovieLens набори даних були зібрані дослідницьким проектом GroupLens\n",
        "# в Університеті Міннесоти.\n",
        "\n",
        "# Цей набір даних складається з:\n",
        "# \t* 100 000 оцінок (1-5) від 943 користувачів для 1682 фільмів.\n",
        "# \t* Кожен користувач оцінив щонайменше 20 фільмів.\n",
        "#         * Проста демографічна інформація для користувачів (вік, стать, професія, поштовий індекс)\n",
        "\n",
        "# Дані збиралися через веб-сайт MovieLens\n",
        "# (movielens.umn.edu) протягом семимісячного періоду з 19 вересня\n",
        "# 1997 року по 22 квітня 1998 року. дані очищено - користувачів\n",
        "# , які мали менше 20 оцінок або не мали повної демографічної\n",
        "# інформації, було видалено з цього набору даних. Детальний опис\n",
        "# файлу даних можна знайти в кінці цього файлу.\n",
        "\n",
        "# Ні Університет Міннесоти, ні будь-хто із\n",
        "# залучених дослідників не може гарантувати правильність даних, їх придатність\n",
        "# для будь-якої конкретної мети або достовірність результатів, заснованих на\n",
        "# використанні набору даних. Набір даних можна використовувати для будь-яких дослідницьких\n",
        "# цілей за таких умов:\n",
        "\n",
        "#      * Користувач не має права заявляти чи натякати на будь-яке схвалення Університету\n",
        "#        Міннесоти чи дослідницької групи GroupLens.\n",
        "\n",
        "#      * Користувач повинен підтвердити використання набору даних у\n",
        "#        публікаціях, отриманих у результаті використання набору даних\n",
        "#        (див. інформацію про цитування нижче).\n",
        "\n",
        "#      * Користувач не може перерозповсюджувати дані без окремого\n",
        "#        дозволу.\n",
        "\n",
        "#      * Користувачеві забороняється використовувати цю інформацію в будь-яких комерційних\n",
        "#        цілях або для отримання прибутку без попереднього отримання дозволу\n",
        "#        від викладача дослідницького проекту GroupLens в Університеті\n",
        "#        Міннесоти.\n",
        "\n",
        "# Якщо у вас є додаткові запитання чи коментарі, зв’яжіться з GroupLens\n",
        "# <grouplens-info@cs.umn.edu>.\n",
        "\n",
        "# CITATION\n",
        "# ===============================================\n",
        "\n",
        "# Для підтвердження використання набору даних у публікаціях, будь ласка, процитуйте таку\n",
        "# статтю:\n",
        "\n",
        "# Ф. Максвелл Харпер і Джозеф А. Констан. 2015. Набори даних MovieLens:\n",
        "# історія та контекст. Транзакції ACM щодо інтерактивних інтелектуальних\n",
        "# систем (TiiS) 5, 4, стаття 19 (грудень 2015), 19 сторінок.\n",
        "# DOI=http://dx.doi.org/10.1145/2827872\n",
        "\n",
        "# ПОДЯКА\n",
        "# =================================== ============\n",
        "\n",
        "# Дякую Елу Борчерсу за очищення цих даних і написання\n",
        "# супровідних сценаріїв.\n",
        "\n",
        "# ПУБЛІКОВАНА РОБОТА, ЯКА ВИКОРИСТОВУВАЛА ЦЕЙ НАБІР ДАНИХ\n",
        "# ============================================= ===\n",
        "\n",
        "# Херлокер, Дж., Констан, Дж., Борчерс, А., Рідл, Дж.. Алгоритмічна\n",
        "# структура для виконання спільної фільтрації. Матеріали\n",
        "# конференції 1999 року з досліджень і розробок у\n",
        "# сфері пошуку інформації. Серпень 1999 р.\n",
        "\n",
        "# ДОДАТКА ІНФОРМАЦІЯ ПРО ПРОЕКТ ДОСЛІДЖЕННЯ GROUPLENS\n",
        "# ========================================== =======\n",
        "\n",
        "# Дослідницький проект GroupLens є дослідницькою групою Департаменту\n",
        "# комп’ютерних наук та інженерії Університету Міннесоти.\n",
        "# Члени дослідницького проекту GroupLens беруть участь у багатьох\n",
        "# дослідницьких проектах, пов’язаних із фільтрацією інформації,\n",
        "# спільною фільтрацією та системами рекомендацій. Керують проектом\n",
        "# професори Джон Рідл і Джозеф Констан. Проект почав\n",
        "# досліджувати автоматизовану спільну фільтрацію в 1992 році, але найбільш\n",
        "# відомий своїм всесвітнім випробуванням автоматизованої спільної\n",
        "# системи фільтрації для новин Usenet у 1996 році. Технологія, розроблена під час\n",
        "# випробування Usenet, лягла в основу формування мережевого сприйняття,\n",
        "# Inc., яка була заснована членами GroupLens Research. З тих пір\n",
        "# проект розширив свою сферу дослідження загальних\n",
        "# рішень фільтрації інформації, інтегруючи методи на основі контенту, а також\n",
        "# вдосконалюючи поточну технологію спільної фільтрації.\n",
        "\n",
        "# Додаткову інформацію про проект GroupLens Research, включно з\n",
        "# дослідницькими публікаціями, можна знайти на веб-сайті:\n",
        "\n",
        "#         http://www.grouplens.org/\n",
        "\n",
        "# GroupLens Research наразі працює з рекомендацією фільмів на основі\n",
        "# спільної фільтрації:\n",
        "\n",
        "#         http://www.movielens .org/\n",
        "\n",
        "# ДЕТАЛЬНИЙ ОПИС ФАЙЛОВ ДАНИХ\n",
        "# ============================================ ====\n",
        "\n",
        "# Ось короткий опис даних.\n",
        "\n",
        "# ml-data.tar.gz -- Стиснутий файл tar. Щоб відновити файли даних u, виконайте наступне:\n",
        "#                 gunzip ml-data.tar.gz\n",
        "#                 tar xvf ml-data.tar\n",
        "#                 mku.sh\n",
        "\n",
        "# u.data -- Повний набір даних u, 100 000 оцінок від 943 користувачів для 1682 елементів.\n",
        "#               Кожен користувач оцінив не менше 20 фільмів. Користувачі та елементи\n",
        "#               нумеруються послідовно від 1. Дані впорядковуються випадковим чином\n",
        "#               . Це розділений вкладками список\n",
        "# \t         ідентифікаторів користувачів | ідентифікатор товару | рейтинг | позначка часу.\n",
        "#               Часові позначки є секундами Unix з 1/1/1970 UTC\n",
        "\n",
        "# u.info -- кількість користувачів, елементів і оцінок у наборі даних u.\n",
        "\n",
        "# u.item -- Інформація про елементи (фільми); це розділений вкладками\n",
        "#               список\n",
        "#               ідентифікатор фільму | назва фільму | Дата випуску | дата випуску відео |\n",
        "#               IMDb URL | невідомий | Дія | Пригода | Анімація |\n",
        "#               Дитячий | Комедія | Злочин | Документальний | Драма | Фантазія |\n",
        "#               Фільм Нуар | Жах | Музичний | Таємниця | Романтика | Наукова фантастика |\n",
        "#               Трилер | Війна | Західний |\n",
        "#               Останні 19 полів — це жанри, 1 означає, що фільм\n",
        "#               належить до цього жанру, 0 — ні; фільми можуть бути в\n",
        "#               кількох жанрах одночасно.\n",
        "#               Ідентифікатори фільмів використовуються в наборі даних u.data.\n",
        "\n",
        "# u.genre -- список жанрів.\n",
        "\n",
        "# u.user -- Демографічна інформація про користувачів; це\n",
        "#               розділений вкладками список\n",
        "#               ідентифікаторів користувачів | вік | стать | професія | поштовий індекс\n",
        "#               Ідентифікатори користувачів використовуються в наборі даних u.data.\n",
        "\n",
        "# u.occupation -- список професій.\n",
        "\n",
        "# u1.base – набори даних від u1.base і u1.test до u5.base і u5.test\n",
        "# u1.test є 80%/20% поділом даних u на навчальні та тестові дані.\n",
        "# u2.base Кожен з u1, ..., u5 має непересічні тестові набори; це якщо для\n",
        "# u2.test 5-кратна перехресна перевірка (де ви повторюєте свій експеримент\n",
        "# u3.base з кожним навчальним і тестовим набором і усереднюєте результати).\n",
        "# u3.test Ці набори даних можуть бути згенеровані з u.data mku.sh.\n",
        "# u4.base\n",
        "# u4.test\n",
        "# u5.base\n",
        "# u5.test\n",
        "\n",
        "# ua.base -- набори даних ua.base, ua.test, ub.base і ub.test\n",
        "# ua.test розділяють дані u на навчальний набір і тестовий встановити за допомогою\n",
        "# ub.base рівно 10 оцінок на користувача в тестовому наборі. Множини\n",
        "# ub.test ua.test і ub.test є непересічними. Ці набори даних можуть\n",
        "#               бути згенеровані з u.data mku.sh.\n",
        "\n",
        "# allbut.pl -- Сценарій, який генерує навчальні та тестові набори, де\n",
        "#               всі рейтинги користувачів, окрім n, містяться в навчальних даних.\n",
        "\n",
        "# mku.sh -- сценарій оболонки для генерації всіх наборів даних u з u.data."
      ],
      "metadata": {
        "id": "ZRAYtZjaKfCn"
      },
      "execution_count": null,
      "outputs": []
    },
    {
      "cell_type": "code",
      "source": [
        "from pathlib import Path\n",
        "base_path = Path(\"/root/.surprise_data/ml-100k/ml-100k\")\n",
        "filelist =  list(map(lambda x: x.name, sorted(base_path.glob(\"u*\"))))\n",
        "types = {\n",
        "    \"test\": \"Test_files\",\n",
        "    \"base\": \"Train_files\"\n",
        "}\n",
        "for f, d in types.items():\n",
        "  print(f\"\\n{d}:\")\n",
        "  print(list(filter(lambda x : x.endswith(f\".{f}\") ,filelist)))"
      ],
      "metadata": {
        "colab": {
          "base_uri": "https://localhost:8080/"
        },
        "id": "42BHAoaI0Km7",
        "outputId": "0dcbbe40-0bf2-4571-d91e-dca8094b142b"
      },
      "execution_count": 4,
      "outputs": [
        {
          "output_type": "stream",
          "name": "stdout",
          "text": [
            "\n",
            "Test_files:\n",
            "['u1.test', 'u2.test', 'u3.test', 'u4.test', 'u5.test', 'ua.test', 'ub.test']\n",
            "\n",
            "Train_files:\n",
            "['u1.base', 'u2.base', 'u3.base', 'u4.base', 'u5.base', 'ua.base', 'ub.base']\n"
          ]
        }
      ]
    },
    {
      "cell_type": "code",
      "source": [
        "latest_url = \"https://files.grouplens.org/datasets/movielens/ml-latest-small.zip\"\n",
        "latest_zip_file = Path(\"ml-latest-small.zip\")\n",
        "if not latest_zip_file.exists():\n",
        "  !wget -q {latest_url}\n",
        "latest_zip_file\n",
        "base_path = Path(\"/content/ml-latest-small/\")\n",
        "rating_csv = base_path.joinpath(\"ratings.csv\")\n",
        "tags_csv = base_path.joinpath(\"tags.csv\")\n",
        "movies_csv = base_path.joinpath(\"movies.csv\")"
      ],
      "metadata": {
        "id": "MA7szMsp0oLD"
      },
      "execution_count": 5,
      "outputs": []
    },
    {
      "cell_type": "code",
      "source": [
        "SEED = 42\n",
        "algo_cv = {}\n",
        "algo_split = {}\n",
        "# Use the SVD algorithm.\n",
        "algo = SVD(random_state=SEED)\n"
      ],
      "metadata": {
        "id": "6dpAGITjD5d1"
      },
      "execution_count": 6,
      "outputs": []
    },
    {
      "cell_type": "markdown",
      "source": [
        "# Інформація про датасет"
      ],
      "metadata": {
        "id": "bZsZWjOAKCVq"
      }
    },
    {
      "cell_type": "markdown",
      "source": [
        "# Інформація знаходиться в кількох файлах"
      ],
      "metadata": {
        "id": "LnmAjuM-Klpk"
      }
    },
    {
      "cell_type": "code",
      "source": [
        "type(data)"
      ],
      "metadata": {
        "colab": {
          "base_uri": "https://localhost:8080/",
          "height": 156
        },
        "id": "TmjhR0949AH8",
        "outputId": "4f92a639-404d-4d4c-e2b4-6978add4fb06"
      },
      "execution_count": 8,
      "outputs": [
        {
          "output_type": "execute_result",
          "data": {
            "text/plain": [
              "surprise.dataset.DatasetAutoFolds"
            ],
            "text/html": [
              "<div style=\"max-width:800px; border: 1px solid var(--colab-border-color);\"><style>\n",
              "      pre.function-repr-contents {\n",
              "        overflow-x: auto;\n",
              "        padding: 8px 12px;\n",
              "        max-height: 500px;\n",
              "      }\n",
              "\n",
              "      pre.function-repr-contents.function-repr-contents-collapsed {\n",
              "        cursor: pointer;\n",
              "        max-height: 100px;\n",
              "      }\n",
              "    </style>\n",
              "    <pre style=\"white-space: initial; background:\n",
              "         var(--colab-secondary-surface-color); padding: 8px 12px;\n",
              "         border-bottom: 1px solid var(--colab-border-color);\"><b>surprise.dataset.DatasetAutoFolds</b><br/>def __init__(ratings_file=None, reader=None, df=None)</pre><pre class=\"function-repr-contents function-repr-contents-collapsed\" style=\"\"><a class=\"filepath\" style=\"display:none\" href=\"#\">/usr/local/lib/python3.10/dist-packages/surprise/dataset.py</a>A derived class from :class:`Dataset` for which folds (for\n",
              "cross-validation) are not predefined. (Or for when there are no folds at\n",
              "all).</pre>\n",
              "      <script>\n",
              "      if (google.colab.kernel.accessAllowed && google.colab.files && google.colab.files.view) {\n",
              "        for (const element of document.querySelectorAll('.filepath')) {\n",
              "          element.style.display = 'block'\n",
              "          element.onclick = (event) => {\n",
              "            event.preventDefault();\n",
              "            event.stopPropagation();\n",
              "            google.colab.files.view(element.textContent, 247);\n",
              "          };\n",
              "        }\n",
              "      }\n",
              "      for (const element of document.querySelectorAll('.function-repr-contents')) {\n",
              "        element.onclick = (event) => {\n",
              "          event.preventDefault();\n",
              "          event.stopPropagation();\n",
              "          element.classList.toggle('function-repr-contents-collapsed');\n",
              "        };\n",
              "      }\n",
              "      </script>\n",
              "      </div>"
            ]
          },
          "metadata": {},
          "execution_count": 8
        }
      ]
    },
    {
      "cell_type": "code",
      "source": [
        "from datetime import date\n",
        "\n",
        "dater = None\n",
        "\n",
        "# Access dataset attributes\n",
        "raw_ratings = data.raw_ratings\n",
        "print(\"Number of ratings:\", len(raw_ratings))\n",
        "\n",
        "# Print a sample of raw ratings\n",
        "print(\"\\nTop 5 samples of raw ratings:\")\n",
        "for rating in raw_ratings[:5]:\n",
        "  uid, iid, ur, timestamp = rating\n",
        "  if timestamp:\n",
        "    dater = date.fromtimestamp(int(timestamp))\n",
        "  print(f\"UserID: {uid:5}, ItemID: {iid:5}, UserRateForItem: {ur:5}, date: {dater}\")\n",
        "\n",
        "search_uid = uid\n",
        "count_uid = 5\n",
        "print(f\"\\nTop {count_uid} ratings of user: {search_uid}\")\n",
        "\n",
        "for rating in raw_ratings:\n",
        "  uid, iid, ur, timestamp = rating\n",
        "  if uid == search_uid:\n",
        "    if timestamp:\n",
        "      dater = date.fromtimestamp(int(timestamp))\n",
        "    count_uid -= 1;\n",
        "    print(f\"UserID: {uid:5}, ItemID: {iid:5}, UserRateForItem: {ur:5}, date: {dater}\")\n",
        "    if count_uid <= 0:\n",
        "      break\n",
        "\n",
        "search_iid = iid\n",
        "count_iid = 5\n",
        "print(f\"\\nTop {count_iid} ratings of item: {search_iid}\")\n",
        "\n",
        "for rating in raw_ratings:\n",
        "  uid, iid, ur, timestamp = rating\n",
        "  if iid == search_iid:\n",
        "    if timestamp:\n",
        "      dater = date.fromtimestamp(int(timestamp))\n",
        "    count_iid -= 1;\n",
        "    print(f\"UserID: {uid:5}, ItemID: {iid:5}, UserRateForItem: {ur:5}, date: {dater}\")\n",
        "    if count_iid <= 0:\n",
        "      break"
      ],
      "metadata": {
        "colab": {
          "base_uri": "https://localhost:8080/"
        },
        "id": "Qw2xBAM_9Fyr",
        "outputId": "50ae2aa9-2997-4a60-fe30-68d850e38fc9"
      },
      "execution_count": 12,
      "outputs": [
        {
          "output_type": "stream",
          "name": "stdout",
          "text": [
            "Number of ratings: 100000\n",
            "\n",
            "Top 5 samples of raw ratings:\n",
            "UserID: 196  , ItemID: 242  , UserRateForItem:   3.0, date: 1997-12-04\n",
            "UserID: 186  , ItemID: 302  , UserRateForItem:   3.0, date: 1998-04-04\n",
            "UserID: 22   , ItemID: 377  , UserRateForItem:   1.0, date: 1997-11-07\n",
            "UserID: 244  , ItemID: 51   , UserRateForItem:   2.0, date: 1997-11-27\n",
            "UserID: 166  , ItemID: 346  , UserRateForItem:   1.0, date: 1998-02-02\n",
            "\n",
            "Top 5 ratings of user: 166\n",
            "UserID: 166  , ItemID: 346  , UserRateForItem:   1.0, date: 1998-02-02\n",
            "UserID: 166  , ItemID: 328  , UserRateForItem:   5.0, date: 1998-02-02\n",
            "UserID: 166  , ItemID: 322  , UserRateForItem:   5.0, date: 1998-02-02\n",
            "UserID: 166  , ItemID: 288  , UserRateForItem:   3.0, date: 1998-02-02\n",
            "UserID: 166  , ItemID: 258  , UserRateForItem:   4.0, date: 1998-02-02\n",
            "\n",
            "Top 5 ratings of item: 258\n",
            "UserID: 26   , ItemID: 258  , UserRateForItem:   3.0, date: 1998-03-31\n",
            "UserID: 66   , ItemID: 258  , UserRateForItem:   4.0, date: 1997-12-31\n",
            "UserID: 207  , ItemID: 258  , UserRateForItem:   4.0, date: 1997-10-26\n",
            "UserID: 90   , ItemID: 258  , UserRateForItem:   3.0, date: 1998-03-31\n",
            "UserID: 6    , ItemID: 258  , UserRateForItem:   2.0, date: 1997-12-28\n"
          ]
        }
      ]
    },
    {
      "cell_type": "code",
      "source": [
        "ratings_file = '/root/.surprise_data/ml-100k/ml-100k/u.data'\n",
        "\n",
        "ratings_data = pd.read_csv(ratings_file, sep='\\t', names=['userId', 'movieId', 'rating', 'timestamp'])\n",
        "\n",
        "print(\"Рейтинги фільмів:\")\n",
        "print(ratings_data.head())"
      ],
      "metadata": {
        "colab": {
          "base_uri": "https://localhost:8080/"
        },
        "id": "ab2VuxRjIz97",
        "outputId": "5cb74f83-1ba6-4ec7-d2ce-ff66f02c046f"
      },
      "execution_count": 9,
      "outputs": [
        {
          "output_type": "stream",
          "name": "stdout",
          "text": [
            "Рейтинги фільмів:\n",
            "   userId  movieId  rating  timestamp\n",
            "0     196      242       3  881250949\n",
            "1     186      302       3  891717742\n",
            "2      22      377       1  878887116\n",
            "3     244       51       2  880606923\n",
            "4     166      346       1  886397596\n"
          ]
        }
      ]
    },
    {
      "cell_type": "markdown",
      "source": [
        "u.info -- кількість користувачів, елементів і оцінок у наборі даних u."
      ],
      "metadata": {
        "id": "65gP4iXaJcPx"
      }
    },
    {
      "cell_type": "code",
      "source": [
        "info_file = '/root/.surprise_data/ml-100k/ml-100k/u.info'\n",
        "\n",
        "info_data = pd.read_csv(info_file, sep='\\t', names=['userId'])\n",
        "\n",
        "print(\"кількість користувачів, елементів і оцінок у наборі даних u:\")\n",
        "print(info_data.head())\n",
        "\n"
      ],
      "metadata": {
        "colab": {
          "base_uri": "https://localhost:8080/"
        },
        "id": "MrfUZ89BJEs3",
        "outputId": "e15af99e-ff59-4e15-bcf5-1e017825c2b8"
      },
      "execution_count": 10,
      "outputs": [
        {
          "output_type": "stream",
          "name": "stdout",
          "text": [
            "кількість користувачів, елементів і оцінок у наборі даних u:\n",
            "           userId\n",
            "0       943 users\n",
            "1      1682 items\n",
            "2  100000 ratings\n"
          ]
        }
      ]
    },
    {
      "cell_type": "code",
      "source": [
        "import pandas as pd\n",
        "\n",
        "file_path = '/root/.surprise_data/ml-100k/ml-100k/u.item'\n",
        "\n",
        "columns = [\n",
        "    'movieId', 'title', 'release_date', 'video_release_date',\n",
        "    'IMDb_URL', 'unknown', 'Action', 'Adventure', 'Animation',\n",
        "    'Children', 'Comedy', 'Crime', 'Documentary', 'Drama', 'Fantasy',\n",
        "    'Film-Noir', 'Horror', 'Musical', 'Mystery', 'Romance',\n",
        "    'Sci-Fi', 'Thriller', 'War', 'Western'\n",
        "]\n",
        "\n",
        "movies_df = pd.read_csv(file_path, sep='|', encoding='latin-1', header=None, names=columns)\n",
        "\n",
        "print(movies_df.head())\n"
      ],
      "metadata": {
        "colab": {
          "base_uri": "https://localhost:8080/"
        },
        "id": "tGs8ItOQJmoo",
        "outputId": "e13ec342-daac-476c-a644-95612c98a768"
      },
      "execution_count": 11,
      "outputs": [
        {
          "output_type": "stream",
          "name": "stdout",
          "text": [
            "   movieId              title release_date  video_release_date  \\\n",
            "0        1   Toy Story (1995)  01-Jan-1995                 NaN   \n",
            "1        2   GoldenEye (1995)  01-Jan-1995                 NaN   \n",
            "2        3  Four Rooms (1995)  01-Jan-1995                 NaN   \n",
            "3        4  Get Shorty (1995)  01-Jan-1995                 NaN   \n",
            "4        5     Copycat (1995)  01-Jan-1995                 NaN   \n",
            "\n",
            "                                            IMDb_URL  unknown  Action  \\\n",
            "0  http://us.imdb.com/M/title-exact?Toy%20Story%2...        0       0   \n",
            "1  http://us.imdb.com/M/title-exact?GoldenEye%20(...        0       1   \n",
            "2  http://us.imdb.com/M/title-exact?Four%20Rooms%...        0       0   \n",
            "3  http://us.imdb.com/M/title-exact?Get%20Shorty%...        0       1   \n",
            "4  http://us.imdb.com/M/title-exact?Copycat%20(1995)        0       0   \n",
            "\n",
            "   Adventure  Animation  Children  ...  Fantasy  Film-Noir  Horror  Musical  \\\n",
            "0          0          1         1  ...        0          0       0        0   \n",
            "1          1          0         0  ...        0          0       0        0   \n",
            "2          0          0         0  ...        0          0       0        0   \n",
            "3          0          0         0  ...        0          0       0        0   \n",
            "4          0          0         0  ...        0          0       0        0   \n",
            "\n",
            "   Mystery  Romance  Sci-Fi  Thriller  War  Western  \n",
            "0        0        0       0         0    0        0  \n",
            "1        0        0       0         1    0        0  \n",
            "2        0        0       0         1    0        0  \n",
            "3        0        0       0         0    0        0  \n",
            "4        0        0       0         1    0        0  \n",
            "\n",
            "[5 rows x 24 columns]\n"
          ]
        }
      ]
    },
    {
      "cell_type": "code",
      "source": [
        "file_path = '/root/.surprise_data/ml-100k/ml-100k/u.user'\n",
        "\n",
        "columns = ['userId', 'age', 'gender', 'occupation', 'zip_code']\n",
        "\n",
        "users_df = pd.read_csv(file_path, sep='|', header=None, names=columns)\n",
        "\n",
        "print(users_df.head())\n"
      ],
      "metadata": {
        "colab": {
          "base_uri": "https://localhost:8080/"
        },
        "id": "Ftmk6_VmDpZH",
        "outputId": "40e468a2-090f-4cb1-b30c-4e5e13e8b112"
      },
      "execution_count": 14,
      "outputs": [
        {
          "output_type": "stream",
          "name": "stdout",
          "text": [
            "   userId  age gender  occupation zip_code\n",
            "0       1   24      M  technician    85711\n",
            "1       2   53      F       other    94043\n",
            "2       3   23      M      writer    32067\n",
            "3       4   24      M  technician    43537\n",
            "4       5   33      F       other    15213\n"
          ]
        }
      ]
    },
    {
      "cell_type": "code",
      "source": [
        "genre_file = '/root/.surprise_data/ml-100k/ml-100k/u.genre'\n",
        "genre_data = pd.read_csv(genre_file, sep='\\t', names=['genreId'])\n",
        "\n",
        "print(\"Жанри фільмів\")\n",
        "print(genre_data.head())\n",
        "\n"
      ],
      "metadata": {
        "colab": {
          "base_uri": "https://localhost:8080/"
        },
        "id": "KV4fL3S6MjzV",
        "outputId": "9b6c4329-92bb-48c2-d2c5-11f4e703f382"
      },
      "execution_count": 15,
      "outputs": [
        {
          "output_type": "stream",
          "name": "stdout",
          "text": [
            "Жанри фільмів\n",
            "        genreId\n",
            "0     unknown|0\n",
            "1      Action|1\n",
            "2   Adventure|2\n",
            "3   Animation|3\n",
            "4  Children's|4\n"
          ]
        }
      ]
    },
    {
      "cell_type": "code",
      "source": [
        "file_path = '/root/.surprise_data/ml-100k/ml-100k/u.occupation'\n",
        "\n",
        "with open(file_path, 'r') as file:\n",
        "    occupations = file.readlines()\n",
        "\n",
        "occupations = [occupation.strip() for occupation in occupations]\n",
        "\n",
        "print(occupations)\n",
        "\n"
      ],
      "metadata": {
        "colab": {
          "base_uri": "https://localhost:8080/"
        },
        "id": "hWQ6b2OxEE36",
        "outputId": "da13c04a-d773-447d-dc31-52718c499708"
      },
      "execution_count": 16,
      "outputs": [
        {
          "output_type": "stream",
          "name": "stdout",
          "text": [
            "['administrator', 'artist', 'doctor', 'educator', 'engineer', 'entertainment', 'executive', 'healthcare', 'homemaker', 'lawyer', 'librarian', 'marketing', 'none', 'other', 'programmer', 'retired', 'salesman', 'scientist', 'student', 'technician', 'writer']\n"
          ]
        }
      ]
    },
    {
      "cell_type": "code",
      "source": [
        "num_ratings = len(data.raw_ratings)\n",
        "print(\"Кількість рейтингів:\", num_ratings)\n"
      ],
      "metadata": {
        "colab": {
          "base_uri": "https://localhost:8080/"
        },
        "id": "obGfuPZu-CTf",
        "outputId": "53b19e25-4b40-4b81-865b-47fb218ad382"
      },
      "execution_count": 17,
      "outputs": [
        {
          "output_type": "stream",
          "name": "stdout",
          "text": [
            "Кількість рейтингів: 100000\n"
          ]
        }
      ]
    },
    {
      "cell_type": "markdown",
      "source": [
        "#Будуємо модель матричної факторизації SVD\n"
      ],
      "metadata": {
        "id": "lOElm2jWkKPV"
      }
    },
    {
      "cell_type": "code",
      "source": [
        "for i in range(1, 6):\n",
        "    train_file = f'/root/.surprise_data/ml-100k/ml-100k/u{i}.base'\n",
        "    test_file = f'/root/.surprise_data/ml-100k/ml-100k/u{i}.test'\n",
        "\n",
        "\n",
        "    reader = Reader(line_format='user item rating timestamp', sep='\\t')\n",
        "    train_data = Dataset.load_from_file(train_file, reader=reader)\n",
        "    test_data = Dataset.load_from_file(test_file, reader=reader)\n",
        "\n",
        "\n",
        "    trainset = train_data.build_full_trainset()\n",
        "    testset = test_data.build_full_trainset().build_testset()\n",
        "\n",
        "    algo = SVD()\n",
        "\n",
        "    algo.fit(trainset)\n",
        "\n",
        "    predictions = algo.test(testset)\n",
        "    rmse = accuracy.rmse(predictions)\n",
        "    mae = accuracy.mae(predictions)\n",
        "    print(f\"RMSE for u{i}.test:\", rmse.round(4))\n",
        "    print(f\"MAE for u{i}.test:\", mae.round(4))\n",
        "\n"
      ],
      "metadata": {
        "colab": {
          "base_uri": "https://localhost:8080/"
        },
        "id": "aI4gAiZw2GXS",
        "outputId": "d72a16f4-4a03-4279-ab6a-05401adb2959"
      },
      "execution_count": 25,
      "outputs": [
        {
          "output_type": "stream",
          "name": "stdout",
          "text": [
            "RMSE: 0.9513\n",
            "MAE:  0.7497\n",
            "RMSE for u1.test: 0.9513\n",
            "MAE for u1.test: 0.7497\n",
            "RMSE: 0.9381\n",
            "MAE:  0.7380\n",
            "RMSE for u2.test: 0.9381\n",
            "MAE for u2.test: 0.738\n",
            "RMSE: 0.9334\n",
            "MAE:  0.7351\n",
            "RMSE for u3.test: 0.9334\n",
            "MAE for u3.test: 0.7351\n",
            "RMSE: 0.9341\n",
            "MAE:  0.7366\n",
            "RMSE for u4.test: 0.9341\n",
            "MAE for u4.test: 0.7366\n",
            "RMSE: 0.9335\n",
            "MAE:  0.7395\n",
            "RMSE for u5.test: 0.9335\n",
            "MAE for u5.test: 0.7395\n"
          ]
        }
      ]
    },
    {
      "cell_type": "markdown",
      "source": [
        "модель демонструє досить низькі значення RMSE і MAE для тестових даних, що є позитивним показником. Це свідчить про те, що модель рекомендацій добре прогнозує оцінки користувачів для нових елементів."
      ],
      "metadata": {
        "id": "cyzdXtBDZ4hM"
      }
    },
    {
      "cell_type": "code",
      "source": [
        "reader = Reader()\n",
        "\n",
        "dataset = data.build_full_trainset()\n",
        "\n",
        "algorithms = [SVD()]\n",
        "\n",
        "for algorithm in algorithms:\n",
        "    print(f\"Evaluating {algorithm.__class__.__name__}...\")\n",
        "    results = cross_validate(algorithm, data, measures=['RMSE'], cv=5, verbose=True)\n",
        "    print(f\"Mean RMSE for {algorithm.__class__.__name__}: {results['test_rmse'].mean()}\")"
      ],
      "metadata": {
        "colab": {
          "base_uri": "https://localhost:8080/"
        },
        "id": "fpSVJ1vo8vuE",
        "outputId": "8d505c10-e5f0-4f91-e3de-175a7b69a21e"
      },
      "execution_count": 18,
      "outputs": [
        {
          "output_type": "stream",
          "name": "stdout",
          "text": [
            "Evaluating SVD...\n",
            "Evaluating RMSE of algorithm SVD on 5 split(s).\n",
            "\n",
            "                  Fold 1  Fold 2  Fold 3  Fold 4  Fold 5  Mean    Std     \n",
            "RMSE (testset)    0.9328  0.9386  0.9374  0.9382  0.9359  0.9366  0.0021  \n",
            "Fit time          1.31    1.34    1.32    1.30    1.30    1.31    0.02    \n",
            "Test time         0.12    0.12    0.12    0.23    0.14    0.15    0.04    \n",
            "Mean RMSE for SVD: 0.9365948166148209\n"
          ]
        }
      ]
    },
    {
      "cell_type": "code",
      "source": [
        "def data_full_trainset(algo, data):\n",
        "  algorithm_name = algo.__class__.__name__\n",
        "  print(f\"Algo: {algorithm_name}, UserID: {uid:5}, ItemID: {iid:5}, UserRateForItem: {ur:5}, date: {dater}\")\n",
        "\n",
        "  #trainset, testset = train_test_split(data, test_size=0.25)\n",
        "  trainset = data.build_full_trainset()\n",
        "\n",
        "  print(\"Number of train ratings:\", len(list(trainset.all_ratings())))\n",
        "  algo.fit(trainset)\n",
        "  pred = algo.predict(uid, iid, r_ui=ur, verbose=True)\n",
        "\n",
        "  testset = trainset.build_testset()\n",
        "  print(\"Number of test ratings:\", len(testset))\n",
        "\n",
        "  predictions = algo.test(testset)\n",
        "  # RMSE має бути низьким, оскільки ми є упередженими\n",
        "  accuracy.rmse(predictions, verbose=True)  # ~ 0.68 (що є низьким показником)\n",
        "\n",
        "\n",
        "data_full_trainset(algo, data)\n"
      ],
      "metadata": {
        "colab": {
          "base_uri": "https://localhost:8080/"
        },
        "id": "T20FmVr_DwTh",
        "outputId": "6797a99c-fd9a-4c63-e5db-cda63b3813f2"
      },
      "execution_count": 13,
      "outputs": [
        {
          "output_type": "stream",
          "name": "stdout",
          "text": [
            "Algo: SVD, UserID: 6    , ItemID: 258  , UserRateForItem:   2.0, date: 1997-12-28\n",
            "Number of train ratings: 100000\n",
            "user: 6          item: 258        r_ui = 2.00   est = 2.60   {'was_impossible': False}\n",
            "Number of test ratings: 100000\n",
            "RMSE: 0.6752\n"
          ]
        }
      ]
    },
    {
      "cell_type": "code",
      "source": [
        "algorithms = [\n",
        "    SVD(),\n",
        "    SVDpp(cache_ratings=False),\n",
        "    SVDpp(cache_ratings=True),\n",
        "    NMF(),\n",
        "    SlopeOne(),\n",
        "    KNNBasic(),\n",
        "    KNNWithMeans(),\n",
        "    KNNWithZScore(),\n",
        "    KNNBaseline(),\n",
        "    CoClustering(),\n",
        "    BaselineOnly(),\n",
        "    NormalPredictor()\n",
        "]\n",
        "\n",
        "results = {}\n",
        "\n",
        "for algo in algorithms:\n",
        "    print(f\"Evaluating {algo.__class__.__name__}...\")\n",
        "    cv_results = cross_validate(algo, data, measures=['RMSE', 'MAE'], cv=5, verbose=True)\n",
        "    mean_rmse = sum(cv_results['test_rmse']) / len(cv_results['test_rmse'])\n",
        "    mean_mae = sum(cv_results['test_mae']) / len(cv_results['test_mae'])\n",
        "    mean_time = sum(cv_results['fit_time']) / len(cv_results['fit_time'])\n",
        "    results[algo.__class__.__name__] = {'RMSE': mean_rmse, 'MAE': mean_mae, 'Time': mean_time}\n",
        "\n",
        "for algo, metrics in results.items():\n",
        "    print(f\"{algo}: RMSE={metrics['RMSE']}, MAE={metrics['MAE']}, Time={metrics['Time']}\")\n"
      ],
      "metadata": {
        "colab": {
          "base_uri": "https://localhost:8080/"
        },
        "id": "GIMMSZj31qOu",
        "outputId": "2a69b28e-ff2e-4df3-e4ce-57341bb74a64"
      },
      "execution_count": 24,
      "outputs": [
        {
          "output_type": "stream",
          "name": "stdout",
          "text": [
            "Evaluating SVD...\n",
            "Evaluating RMSE, MAE of algorithm SVD on 5 split(s).\n",
            "\n",
            "                  Fold 1  Fold 2  Fold 3  Fold 4  Fold 5  Mean    Std     \n",
            "RMSE (testset)    0.9335  0.9296  0.9472  0.9322  0.9363  0.9358  0.0061  \n",
            "MAE (testset)     0.7362  0.7330  0.7473  0.7343  0.7379  0.7377  0.0051  \n",
            "Fit time          1.28    1.89    1.31    1.32    1.32    1.43    0.23    \n",
            "Test time         0.14    0.47    0.13    0.17    0.34    0.25    0.13    \n",
            "Evaluating SVDpp...\n",
            "Evaluating RMSE, MAE of algorithm SVDpp on 5 split(s).\n",
            "\n",
            "                  Fold 1  Fold 2  Fold 3  Fold 4  Fold 5  Mean    Std     \n",
            "RMSE (testset)    0.9173  0.9119  0.9281  0.9210  0.9285  0.9213  0.0063  \n",
            "MAE (testset)     0.7201  0.7112  0.7257  0.7242  0.7296  0.7222  0.0063  \n",
            "Fit time          26.50   26.36   26.40   26.64   27.01   26.58   0.23    \n",
            "Test time         5.05    4.17    5.36    4.15    4.37    4.62    0.49    \n",
            "Evaluating SVDpp...\n",
            "Evaluating RMSE, MAE of algorithm SVDpp on 5 split(s).\n",
            "\n",
            "                  Fold 1  Fold 2  Fold 3  Fold 4  Fold 5  Mean    Std     \n",
            "RMSE (testset)    0.9207  0.9185  0.9235  0.9210  0.9186  0.9205  0.0019  \n",
            "MAE (testset)     0.7232  0.7198  0.7234  0.7225  0.7182  0.7214  0.0020  \n",
            "Fit time          21.56   21.51   21.70   21.52   21.15   21.49   0.18    \n",
            "Test time         4.21    4.18    4.29    4.18    4.94    4.36    0.29    \n",
            "Evaluating NMF...\n",
            "Evaluating RMSE, MAE of algorithm NMF on 5 split(s).\n",
            "\n",
            "                  Fold 1  Fold 2  Fold 3  Fold 4  Fold 5  Mean    Std     \n",
            "RMSE (testset)    0.9725  0.9653  0.9553  0.9662  0.9618  0.9642  0.0056  \n",
            "MAE (testset)     0.7647  0.7602  0.7477  0.7574  0.7583  0.7576  0.0056  \n",
            "Fit time          1.98    2.03    2.04    2.00    2.64    2.14    0.25    \n",
            "Test time         0.35    0.10    0.35    0.15    0.12    0.21    0.11    \n",
            "Evaluating SlopeOne...\n",
            "Evaluating RMSE, MAE of algorithm SlopeOne on 5 split(s).\n",
            "\n",
            "                  Fold 1  Fold 2  Fold 3  Fold 4  Fold 5  Mean    Std     \n",
            "RMSE (testset)    0.9420  0.9483  0.9447  0.9447  0.9438  0.9447  0.0021  \n",
            "MAE (testset)     0.7400  0.7464  0.7444  0.7435  0.7378  0.7424  0.0031  \n",
            "Fit time          0.69    0.72    0.74    0.68    0.69    0.70    0.02    \n",
            "Test time         2.67    2.44    3.25    2.69    2.40    2.69    0.30    \n",
            "Evaluating KNNBasic...\n",
            "Computing the msd similarity matrix...\n",
            "Done computing similarity matrix.\n",
            "Computing the msd similarity matrix...\n",
            "Done computing similarity matrix.\n",
            "Computing the msd similarity matrix...\n",
            "Done computing similarity matrix.\n",
            "Computing the msd similarity matrix...\n",
            "Done computing similarity matrix.\n",
            "Computing the msd similarity matrix...\n",
            "Done computing similarity matrix.\n",
            "Evaluating RMSE, MAE of algorithm KNNBasic on 5 split(s).\n",
            "\n",
            "                  Fold 1  Fold 2  Fold 3  Fold 4  Fold 5  Mean    Std     \n",
            "RMSE (testset)    0.9800  0.9856  0.9621  0.9810  0.9825  0.9782  0.0083  \n",
            "MAE (testset)     0.7730  0.7779  0.7625  0.7733  0.7759  0.7725  0.0053  \n",
            "Fit time          0.30    0.46    0.33    0.33    0.46    0.38    0.07    \n",
            "Test time         3.09    3.79    3.04    3.05    3.73    3.34    0.35    \n",
            "Evaluating KNNWithMeans...\n",
            "Computing the msd similarity matrix...\n",
            "Done computing similarity matrix.\n",
            "Computing the msd similarity matrix...\n",
            "Done computing similarity matrix.\n",
            "Computing the msd similarity matrix...\n",
            "Done computing similarity matrix.\n",
            "Computing the msd similarity matrix...\n",
            "Done computing similarity matrix.\n",
            "Computing the msd similarity matrix...\n",
            "Done computing similarity matrix.\n",
            "Evaluating RMSE, MAE of algorithm KNNWithMeans on 5 split(s).\n",
            "\n",
            "                  Fold 1  Fold 2  Fold 3  Fold 4  Fold 5  Mean    Std     \n",
            "RMSE (testset)    0.9586  0.9533  0.9409  0.9500  0.9524  0.9510  0.0058  \n",
            "MAE (testset)     0.7529  0.7525  0.7433  0.7489  0.7501  0.7496  0.0034  \n",
            "Fit time          0.36    0.36    0.50    0.36    0.40    0.40    0.06    \n",
            "Test time         3.16    3.48    3.86    3.15    3.52    3.44    0.26    \n",
            "Evaluating KNNWithZScore...\n",
            "Computing the msd similarity matrix...\n",
            "Done computing similarity matrix.\n",
            "Computing the msd similarity matrix...\n",
            "Done computing similarity matrix.\n",
            "Computing the msd similarity matrix...\n",
            "Done computing similarity matrix.\n",
            "Computing the msd similarity matrix...\n",
            "Done computing similarity matrix.\n",
            "Computing the msd similarity matrix...\n",
            "Done computing similarity matrix.\n",
            "Evaluating RMSE, MAE of algorithm KNNWithZScore on 5 split(s).\n",
            "\n",
            "                  Fold 1  Fold 2  Fold 3  Fold 4  Fold 5  Mean    Std     \n",
            "RMSE (testset)    0.9479  0.9468  0.9529  0.9484  0.9544  0.9501  0.0030  \n",
            "MAE (testset)     0.7453  0.7461  0.7455  0.7437  0.7462  0.7453  0.0009  \n",
            "Fit time          0.61    0.46    0.43    0.66    0.47    0.53    0.09    \n",
            "Test time         3.85    3.61    3.94    3.33    3.63    3.67    0.21    \n",
            "Evaluating KNNBaseline...\n",
            "Estimating biases using als...\n",
            "Computing the msd similarity matrix...\n",
            "Done computing similarity matrix.\n",
            "Estimating biases using als...\n",
            "Computing the msd similarity matrix...\n",
            "Done computing similarity matrix.\n",
            "Estimating biases using als...\n",
            "Computing the msd similarity matrix...\n",
            "Done computing similarity matrix.\n",
            "Estimating biases using als...\n",
            "Computing the msd similarity matrix...\n",
            "Done computing similarity matrix.\n",
            "Estimating biases using als...\n",
            "Computing the msd similarity matrix...\n",
            "Done computing similarity matrix.\n",
            "Evaluating RMSE, MAE of algorithm KNNBaseline on 5 split(s).\n",
            "\n",
            "                  Fold 1  Fold 2  Fold 3  Fold 4  Fold 5  Mean    Std     \n",
            "RMSE (testset)    0.9300  0.9299  0.9288  0.9369  0.9297  0.9311  0.0029  \n",
            "MAE (testset)     0.7328  0.7312  0.7347  0.7365  0.7318  0.7334  0.0019  \n",
            "Fit time          0.58    0.60    0.65    0.72    0.61    0.63    0.05    \n",
            "Test time         4.50    3.49    3.75    4.36    3.51    3.92    0.43    \n",
            "Evaluating CoClustering...\n",
            "Evaluating RMSE, MAE of algorithm CoClustering on 5 split(s).\n",
            "\n",
            "                  Fold 1  Fold 2  Fold 3  Fold 4  Fold 5  Mean    Std     \n",
            "RMSE (testset)    0.9694  0.9643  0.9725  0.9704  0.9584  0.9670  0.0051  \n",
            "MAE (testset)     0.7582  0.7549  0.7604  0.7598  0.7501  0.7567  0.0038  \n",
            "Fit time          1.83    2.31    1.96    1.87    1.89    1.97    0.17    \n",
            "Test time         0.41    0.18    0.10    0.42    0.10    0.24    0.15    \n",
            "Evaluating BaselineOnly...\n",
            "Estimating biases using als...\n",
            "Estimating biases using als...\n",
            "Estimating biases using als...\n",
            "Estimating biases using als...\n",
            "Estimating biases using als...\n",
            "Evaluating RMSE, MAE of algorithm BaselineOnly on 5 split(s).\n",
            "\n",
            "                  Fold 1  Fold 2  Fold 3  Fold 4  Fold 5  Mean    Std     \n",
            "RMSE (testset)    0.9459  0.9438  0.9550  0.9379  0.9384  0.9442  0.0062  \n",
            "MAE (testset)     0.7485  0.7478  0.7575  0.7444  0.7445  0.7485  0.0048  \n",
            "Fit time          0.28    0.31    0.31    0.31    0.33    0.31    0.02    \n",
            "Test time         0.08    0.08    0.09    0.40    0.14    0.16    0.12    \n",
            "Evaluating NormalPredictor...\n",
            "Evaluating RMSE, MAE of algorithm NormalPredictor on 5 split(s).\n",
            "\n",
            "                  Fold 1  Fold 2  Fold 3  Fold 4  Fold 5  Mean    Std     \n",
            "RMSE (testset)    1.5281  1.5187  1.5170  1.5179  1.5225  1.5208  0.0041  \n",
            "MAE (testset)     1.2293  1.2168  1.2178  1.2166  1.2236  1.2208  0.0049  \n",
            "Fit time          0.17    0.20    0.15    0.13    0.13    0.16    0.03    \n",
            "Test time         0.14    0.61    0.08    0.08    0.40    0.26    0.21    \n",
            "SVD: RMSE=0.9357737283258889, MAE=0.7377273973184397, Time=1.4259190082550048\n",
            "SVDpp: RMSE=0.9204577248635015, MAE=0.7214216331519185, Time=21.490423107147215\n",
            "NMF: RMSE=0.9642231943058116, MAE=0.757646916870728, Time=2.1379114151000977\n",
            "SlopeOne: RMSE=0.9446974591826267, MAE=0.7424247092582709, Time=0.7043561935424805\n",
            "KNNBasic: RMSE=0.9782462023932478, MAE=0.7725261795095337, Time=0.3772542476654053\n",
            "KNNWithMeans: RMSE=0.9510458751821094, MAE=0.7495653514675568, Time=0.3967007637023926\n",
            "KNNWithZScore: RMSE=0.9500832471815205, MAE=0.7453449447610188, Time=0.5267268657684326\n",
            "KNNBaseline: RMSE=0.9310834662256872, MAE=0.7334127422093376, Time=0.6311882495880127\n",
            "CoClustering: RMSE=0.967009726662899, MAE=0.7566976118635999, Time=1.972911787033081\n",
            "BaselineOnly: RMSE=0.9441994303691004, MAE=0.7485209016096033, Time=0.30896291732788084\n",
            "NormalPredictor: RMSE=1.5208272344308047, MAE=1.2208244163716893, Time=0.1552133560180664\n"
          ]
        }
      ]
    },
    {
      "cell_type": "code",
      "source": [
        "import time\n",
        "import datetime\n",
        "from tabulate import tabulate\n",
        "np.random.seed(0)\n",
        "random.seed(0)\n",
        "\n",
        "kf = KFold(random_state=0)  # folds will be the same for all algorithms.\n"
      ],
      "metadata": {
        "id": "6DdmunlA5eMh"
      },
      "execution_count": 19,
      "outputs": []
    },
    {
      "cell_type": "code",
      "source": [
        "algos = (\n",
        "    SVD(random_state=0),\n",
        "    SVDpp(random_state=0, cache_ratings=False),\n",
        "    SVDpp(random_state=0, cache_ratings=True),\n",
        "    NMF(random_state=0),\n",
        "    SlopeOne(),\n",
        "    KNNBasic(),\n",
        "    KNNWithMeans(),\n",
        "    KNNBaseline(),\n",
        "    CoClustering(random_state=0),\n",
        "    BaselineOnly(),\n",
        "    NormalPredictor(),\n",
        ")\n",
        "\n",
        "results = {}\n",
        "\n",
        "for algo in algos:\n",
        "    start = time.time()\n",
        "    out = cross_validate(algo, data, [\"rmse\", \"mae\"], kf)\n",
        "    cv_time = str(datetime.timedelta(seconds=int(time.time() - start)))\n",
        "    mean_rmse = \"{:.3f}\".format(np.mean(out[\"test_rmse\"]))\n",
        "    mean_mae = \"{:.3f}\".format(np.mean(out[\"test_mae\"]))\n",
        "\n",
        "    results[algo.__class__.__name__] = {'RMSE': mean_rmse, 'MAE': mean_mae, 'Time': cv_time}\n",
        "\n",
        "header = [\"Algorithm\", \"RMSE\", \"MAE\", \"Time\"]\n",
        "table = []\n",
        "\n",
        "for algo, metrics in results.items():\n",
        "    table.append([algo, metrics['RMSE'], metrics['MAE'], metrics['Time']])\n",
        "\n",
        "print(tabulate(table, header, tablefmt=\"pipe\"))\n"
      ],
      "metadata": {
        "colab": {
          "base_uri": "https://localhost:8080/"
        },
        "id": "tSEnTnNEtEUK",
        "outputId": "55d633ae-661e-4623-fc46-d456de484939"
      },
      "execution_count": 22,
      "outputs": [
        {
          "output_type": "stream",
          "name": "stdout",
          "text": [
            "Computing the msd similarity matrix...\n",
            "Done computing similarity matrix.\n",
            "Computing the msd similarity matrix...\n",
            "Done computing similarity matrix.\n",
            "Computing the msd similarity matrix...\n",
            "Done computing similarity matrix.\n",
            "Computing the msd similarity matrix...\n",
            "Done computing similarity matrix.\n",
            "Computing the msd similarity matrix...\n",
            "Done computing similarity matrix.\n",
            "Computing the msd similarity matrix...\n",
            "Done computing similarity matrix.\n",
            "Computing the msd similarity matrix...\n",
            "Done computing similarity matrix.\n",
            "Computing the msd similarity matrix...\n",
            "Done computing similarity matrix.\n",
            "Computing the msd similarity matrix...\n",
            "Done computing similarity matrix.\n",
            "Computing the msd similarity matrix...\n",
            "Done computing similarity matrix.\n",
            "Estimating biases using als...\n",
            "Computing the msd similarity matrix...\n",
            "Done computing similarity matrix.\n",
            "Estimating biases using als...\n",
            "Computing the msd similarity matrix...\n",
            "Done computing similarity matrix.\n",
            "Estimating biases using als...\n",
            "Computing the msd similarity matrix...\n",
            "Done computing similarity matrix.\n",
            "Estimating biases using als...\n",
            "Computing the msd similarity matrix...\n",
            "Done computing similarity matrix.\n",
            "Estimating biases using als...\n",
            "Computing the msd similarity matrix...\n",
            "Done computing similarity matrix.\n",
            "Estimating biases using als...\n",
            "Estimating biases using als...\n",
            "Estimating biases using als...\n",
            "Estimating biases using als...\n",
            "Estimating biases using als...\n",
            "| Algorithm       |   RMSE |   MAE | Time    |\n",
            "|:----------------|-------:|------:|:--------|\n",
            "| SVD             |  0.934 | 0.737 | 0:00:09 |\n",
            "| SVDpp           |  0.919 | 0.721 | 0:02:11 |\n",
            "| NMF             |  0.963 | 0.758 | 0:00:12 |\n",
            "| SlopeOne        |  0.946 | 0.743 | 0:00:18 |\n",
            "| KNNBasic        |  0.98  | 0.774 | 0:00:20 |\n",
            "| KNNWithMeans    |  0.951 | 0.749 | 0:00:21 |\n",
            "| KNNBaseline     |  0.931 | 0.733 | 0:00:23 |\n",
            "| CoClustering    |  0.963 | 0.753 | 0:00:12 |\n",
            "| BaselineOnly    |  0.944 | 0.748 | 0:00:03 |\n",
            "| NormalPredictor |  1.518 | 1.219 | 0:00:02 |\n"
          ]
        }
      ]
    },
    {
      "cell_type": "code",
      "source": [
        "algorithm_results = [(algo, float(results[algo]['RMSE']), float(results[algo]['MAE'])) for algo in results]\n",
        "\n",
        "sorted_results_rmse = sorted(algorithm_results, key=lambda x: x[1])\n",
        "\n",
        "sorted_results_mae = sorted(algorithm_results, key=lambda x: x[2])\n"
      ],
      "metadata": {
        "id": "F3Dnw5R1fLbN"
      },
      "execution_count": 30,
      "outputs": []
    },
    {
      "cell_type": "code",
      "source": [
        "plt.figure(figsize=(12, 6))\n",
        "plt.subplot(1, 2, 1)\n",
        "algorithms_rmse, rmse_values, _ = zip(*sorted_results_rmse)\n",
        "for i, (algorithm, rmse) in enumerate(zip(algorithms_rmse, rmse_values)):\n",
        "    plt.text(rmse, i, f'{rmse:.3f}', ha='left', va='center', fontsize=8)\n",
        "plt.barh(algorithms_rmse, rmse_values, color='skyblue')\n",
        "plt.xlabel('RMSE')\n",
        "plt.title('RMSE for Different Algorithms (Ranked)')\n",
        "\n",
        "plt.subplot(1, 2, 2)\n",
        "algorithms_mae, _, mae_values = zip(*sorted_results_mae)\n",
        "for i, (algorithm, mae) in enumerate(zip(algorithms_mae, mae_values)):\n",
        "    plt.text(mae, i, f'{mae:.3f}', ha='left', va='center', fontsize=8)\n",
        "plt.barh(algorithms_mae, mae_values, color='salmon')\n",
        "plt.xlabel('MAE')\n",
        "plt.title('MAE for Different Algorithms (Ranked)')\n",
        "\n",
        "plt.tight_layout()\n",
        "plt.show()\n"
      ],
      "metadata": {
        "colab": {
          "base_uri": "https://localhost:8080/",
          "height": 607
        },
        "id": "MRJDsT6CXwj-",
        "outputId": "c6e11cd1-f6c1-474e-9847-239e90fe65f3"
      },
      "execution_count": 31,
      "outputs": [
        {
          "output_type": "display_data",
          "data": {
            "text/plain": [
              "<Figure size 1200x600 with 2 Axes>"
            ],
            "image/png": "[encoded data removed]"
          },
          "metadata": {}
        }
      ]
    },
    {
      "cell_type": "code",
      "source": [
        "def plot_algo_ranked(input_data: list, title_type: str=\"\", ylabel_type: str=\"RMSE\", column=None):\n",
        "    # Без результату NormalPredictor\n",
        "    x = range(len(input_data) - 1)\n",
        "    if column is None:\n",
        "        y = [v[1] for v in input_data[:-1]]\n",
        "    else:\n",
        "        y = [v[column] for v in input_data[:-1]]\n",
        "\n",
        "    y = np.array(y)\n",
        "\n",
        "    plt.figure(figsize=(20, 8))\n",
        "    h_y = y[-1] -  y[0]\n",
        "    max_y = y[-1] + h_y * 0.16\n",
        "    min_y = y[0] - h_y * 0.16\n",
        "    min_y = 0 if min_y < 0 else min_y\n",
        "    plt.ylim(min_y, max_y)\n",
        "    plt.title(f\"Результати {title_type} для різних алгоритмів. [зміна у % від поперед.] (зміна у % від найкр.)\")\n",
        "\n",
        "    cmap = plt.get_cmap('Paired')\n",
        "    num_colors = len(x)\n",
        "    colors_map = [cmap(i / num_colors) for i in range(num_colors)]\n",
        "    colors = colors_map\n",
        "\n",
        "    bar_w = 0.8\n",
        "\n",
        "    plt.bar(x, height=y, width=bar_w, color=colors)\n",
        "    plt.xticks(x, [v[0] for v in input_data[:-1]] )\n",
        "    plt.plot(x, y, \"o-\")\n",
        "    plt.xlabel(\"Назва алгоритму\")\n",
        "    plt.ylabel(ylabel_type)\n",
        "    plt.vlines(x[0], min_y, max_y, color=\"red\", linestyle=\"-.\", label=\"Найкращий алгоритм, менше значення\")\n",
        "    plt.hlines(y[0], -bar_w / 2, len(x) - 2 + bar_w / 2, color=\"red\", linestyle=\"-.\")\n",
        "    diff_y = np.diff(y) / y[:-1] * 100\n",
        "    diff_y_best = y / y[0] * 100 - 100\n",
        "\n",
        "    for i, val in enumerate(y):\n",
        "        text = str(round(val, 4))\n",
        "        if i > 0:\n",
        "            text += f\" [{round(diff_y[i-1], 1):+,}%]\"\n",
        "        if i > 1:\n",
        "            text += f\" ({round(diff_y_best[i], 1):+,}%)\"\n",
        "\n",
        "        plt.text(x[i], val + h_y * 0.05 , text, ha='center',  va='bottom', bbox=dict(facecolor='white', alpha=0.95))\n",
        "    plt.legend(loc=\"best\")\n",
        "    plt.show()\n",
        "    print(f\"Найкращий алгоритм: {input_data[0][0]}, зі значенням: {input_data[0][1]:.4f}\")\n",
        "\n",
        "\n",
        "plot_algo_ranked(sorted_results_rmse, \"кросвалідації\", \" Значення RMSE\")\n"
      ],
      "metadata": {
        "colab": {
          "base_uri": "https://localhost:8080/",
          "height": 736
        },
        "id": "poSejzC5_t8Y",
        "outputId": "93ab8910-e244-4655-8532-7447952f34a2"
      },
      "execution_count": 32,
      "outputs": [
        {
          "output_type": "display_data",
          "data": {
            "text/plain": [
              "<Figure size 2000x800 with 1 Axes>"
            ],
            "image/png": "[encoded data removed]"
          },
          "metadata": {}
        },
        {
          "output_type": "stream",
          "name": "stdout",
          "text": [
            "Найкращий алгоритм: SVDpp, зі значенням: 0.9205\n"
          ]
        }
      ]
    }
  ]
}